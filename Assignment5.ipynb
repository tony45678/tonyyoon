{
  "nbformat": 4,
  "nbformat_minor": 0,
  "metadata": {
    "colab": {
      "name": "Assignment5.ipynb",
      "provenance": [],
      "collapsed_sections": [
        "LuDvjJQHV9wW"
      ],
      "toc_visible": true,
      "authorship_tag": "ABX9TyPFZyyEmDyeoFhxTQrqGxt9",
      "include_colab_link": true
    },
    "kernelspec": {
      "name": "python3",
      "display_name": "Python 3"
    }
  },
  "cells": [
    {
      "cell_type": "markdown",
      "metadata": {
        "id": "view-in-github",
        "colab_type": "text"
      },
      "source": [
        "<a href=\"https://colab.research.google.com/github/tony45678/tonyyoon/blob/master/Assignment5.ipynb\" target=\"_parent\"><img src=\"https://colab.research.google.com/assets/colab-badge.svg\" alt=\"Open In Colab\"/></a>"
      ]
    },
    {
      "cell_type": "markdown",
      "metadata": {
        "id": "ChKf9V5UoYgX",
        "colab_type": "text"
      },
      "source": [
        "# Import Libaries "
      ]
    },
    {
      "cell_type": "code",
      "metadata": {
        "id": "KK0HDc3coU4z",
        "colab_type": "code",
        "colab": {}
      },
      "source": [
        "import io\n",
        "import cmath \n",
        "import pandas as pd\n",
        "import numpy as np\n",
        "from sklearn.datasets import make_classification\n",
        "from sklearn.linear_model import LogisticRegression \n",
        "from sklearn.model_selection import train_test_split\n",
        "from sklearn.metrics import confusion_matrix\n",
        "import matplotlib.pyplot as plt \n"
      ],
      "execution_count": 0,
      "outputs": []
    },
    {
      "cell_type": "markdown",
      "metadata": {
        "id": "iMNzK2y1ojTL",
        "colab_type": "text"
      },
      "source": [
        "# 1. Plot the training Data"
      ]
    },
    {
      "cell_type": "code",
      "metadata": {
        "id": "ZzgMIjXyooqW",
        "colab_type": "code",
        "colab": {}
      },
      "source": [
        "def load_data(path, header):\n",
        "    data = pd.read_csv(path, header=header)\n",
        "    return data"
      ],
      "execution_count": 0,
      "outputs": []
    },
    {
      "cell_type": "code",
      "metadata": {
        "id": "-N1pscF7StZy",
        "colab_type": "code",
        "outputId": "91fdd2b6-b991-4700-8217-708bf4c14da1",
        "colab": {
          "base_uri": "https://localhost:8080/",
          "height": 482
        }
      },
      "source": [
        "if __name__ == \"__main__\":\n",
        "    data = load_data(\"data.txt\",None)\n",
        "\n",
        "    x = data.iloc[:, :2]\n",
        "    y = data.iloc[:, -1]\n",
        "\n",
        "    label_1 = data.loc[y == 1]\n",
        "    label_0 = data.loc[y == 0]\n",
        "\n",
        "\n",
        "    plt.figure(figsize=(8, 8))\n",
        "    plt.scatter(label_1.iloc[:, 0], label_1.iloc[:, 1], alpha=0.5, c ='b')\n",
        "    plt.scatter(label_0.iloc[:, 0], label_0.iloc[:, 1], alpha=0.5, c ='r')\n",
        "    plt.legend(['1','0'])\n",
        "    plt.show()"
      ],
      "execution_count": 0,
      "outputs": [
        {
          "output_type": "display_data",
          "data": {
            "image/png": "[encoded data removed]",
            "text/plain": [
              "<Figure size 576x576 with 1 Axes>"
            ]
          },
          "metadata": {
            "tags": []
          }
        }
      ]
    },
    {
      "cell_type": "markdown",
      "metadata": {
        "id": "LuDvjJQHV9wW",
        "colab_type": "text"
      },
      "source": [
        "# Train Model"
      ]
    },
    {
      "cell_type": "code",
      "metadata": {
        "id": "aE4tlU4Vn3rT",
        "colab_type": "code",
        "colab": {}
      },
      "source": [
        "model = LogisticRegression()  "
      ],
      "execution_count": 0,
      "outputs": []
    },
    {
      "cell_type": "code",
      "metadata": {
        "id": "KFTOPO_fq1WF",
        "colab_type": "code",
        "colab": {}
      },
      "source": [
        "x_train,x_test,y_train,y_test = train_test_split(x,y,random_state = 1)"
      ],
      "execution_count": 0,
      "outputs": []
    },
    {
      "cell_type": "code",
      "metadata": {
        "id": "67xrYJE0n6rg",
        "colab_type": "code",
        "outputId": "55711e94-944a-4471-c6be-cad712fcbc43",
        "colab": {
          "base_uri": "https://localhost:8080/",
          "height": 160
        }
      },
      "source": [
        " model.fit(x_train, y_train)  "
      ],
      "execution_count": 0,
      "outputs": [
        {
          "output_type": "execute_result",
          "data": {
            "text/plain": [
              "LogisticRegression(C=1.0, class_weight=None, dual=False, fit_intercept=True,\n",
              "                   intercept_scaling=1, l1_ratio=None, max_iter=100,\n",
              "                   multi_class='auto', n_jobs=None, penalty='l2',\n",
              "                   random_state=None, solver='lbfgs', tol=0.0001, verbose=0,\n",
              "                   warm_start=False)"
            ]
          },
          "metadata": {
            "tags": []
          },
          "execution_count": 315
        }
      ]
    },
    {
      "cell_type": "code",
      "metadata": {
        "id": "Jp7IZ9P-qFNY",
        "colab_type": "code",
        "outputId": "995d5a08-99b1-4bd1-9e72-29968ba4522e",
        "colab": {
          "base_uri": "https://localhost:8080/",
          "height": 45
        }
      },
      "source": [
        "model.score(x_train,y_train)"
      ],
      "execution_count": 0,
      "outputs": [
        {
          "output_type": "execute_result",
          "data": {
            "text/plain": [
              "0.8933333333333333"
            ]
          },
          "metadata": {
            "tags": []
          },
          "execution_count": 321
        }
      ]
    },
    {
      "cell_type": "code",
      "metadata": {
        "id": "mNFHZR3foAZy",
        "colab_type": "code",
        "outputId": "88a5acf1-f4cd-4fe0-e329-74700f41cf38",
        "colab": {
          "base_uri": "https://localhost:8080/",
          "height": 45
        }
      },
      "source": [
        "print(model.intercept_, model.coef_,model.n_iter_) "
      ],
      "execution_count": 0,
      "outputs": [
        {
          "output_type": "stream",
          "text": [
            "[-28.43703197] [[0.23098726 0.23209393]] [30]\n"
          ],
          "name": "stdout"
        }
      ]
    },
    {
      "cell_type": "markdown",
      "metadata": {
        "id": "TczHGzq0opDI",
        "colab_type": "text"
      },
      "source": [
        "# 2. Plot the estimated parameters"
      ]
    },
    {
      "cell_type": "markdown",
      "metadata": {
        "id": "N1P2GZGJzEmJ",
        "colab_type": "text"
      },
      "source": [
        "\n",
        "\n",
        "*   z = -28.43703197 + 0.23098726(x)+ 0.23209393(y) \n",
        "\n"
      ]
    },
    {
      "cell_type": "code",
      "metadata": {
        "id": "mbc2FGi3zDki",
        "colab_type": "code",
        "colab": {}
      },
      "source": [
        "def sigmoid(z):\n",
        "    return 1.0 / (1.0 + np.exp(-z))"
      ],
      "execution_count": 0,
      "outputs": []
    },
    {
      "cell_type": "code",
      "metadata": {
        "id": "xOS376_e11_5",
        "colab_type": "code",
        "outputId": "c7043c3a-c055-412a-f566-01149eb17fca",
        "colab": {
          "base_uri": "https://localhost:8080/",
          "height": 292
        }
      },
      "source": [
        "theta0 = -28.43\n",
        "plt.plot(sigmoid(z)*theta0)"
      ],
      "execution_count": 0,
      "outputs": [
        {
          "output_type": "execute_result",
          "data": {
            "text/plain": [
              "[<matplotlib.lines.Line2D at 0x7fab99dcdc18>]"
            ]
          },
          "metadata": {
            "tags": []
          },
          "execution_count": 398
        },
        {
          "output_type": "display_data",
          "data": {
            "image/png": "[encoded data removed]",
            "text/plain": [
              "<Figure size 432x288 with 1 Axes>"
            ]
          },
          "metadata": {
            "tags": []
          }
        }
      ]
    },
    {
      "cell_type": "code",
      "metadata": {
        "id": "m6rBtzm142h4",
        "colab_type": "code",
        "outputId": "45ffd05e-455e-4a31-a19a-a8d8786a3f79",
        "colab": {
          "base_uri": "https://localhost:8080/",
          "height": 292
        }
      },
      "source": [
        "theta1 = 0.23\n",
        "sigmoid(theta1)\n",
        "plt.plot(sigmoid(z)*theta1)"
      ],
      "execution_count": 0,
      "outputs": [
        {
          "output_type": "execute_result",
          "data": {
            "text/plain": [
              "[<matplotlib.lines.Line2D at 0x7fab99da2f60>]"
            ]
          },
          "metadata": {
            "tags": []
          },
          "execution_count": 399
        },
        {
          "output_type": "display_data",
          "data": {
            "image/png": "[encoded data removed]",
            "text/plain": [
              "<Figure size 432x288 with 1 Axes>"
            ]
          },
          "metadata": {
            "tags": []
          }
        }
      ]
    },
    {
      "cell_type": "code",
      "metadata": {
        "id": "LiVlMKAv4_Ew",
        "colab_type": "code",
        "outputId": "2343f9d6-29df-4526-a2ab-aaf73d1ce293",
        "colab": {
          "base_uri": "https://localhost:8080/",
          "height": 292
        }
      },
      "source": [
        "theta2 = 0.232\n",
        "sigmoid(theta2)\n",
        "plt.plot(sigmoid(z)*theta2)"
      ],
      "execution_count": 0,
      "outputs": [
        {
          "output_type": "execute_result",
          "data": {
            "text/plain": [
              "[<matplotlib.lines.Line2D at 0x7fab99d77f98>]"
            ]
          },
          "metadata": {
            "tags": []
          },
          "execution_count": 401
        },
        {
          "output_type": "display_data",
          "data": {
            "image/png": "[encoded data removed]",
            "text/plain": [
              "<Figure size 432x288 with 1 Axes>"
            ]
          },
          "metadata": {
            "tags": []
          }
        }
      ]
    },
    {
      "cell_type": "code",
      "metadata": {
        "id": "Sm9yblsEwRDi",
        "colab_type": "code",
        "colab": {}
      },
      "source": [
        "(a_, b_, c_, d_), _ = opt.curve_fit(f, x, y)"
      ],
      "execution_count": 0,
      "outputs": []
    },
    {
      "cell_type": "markdown",
      "metadata": {
        "id": "lBBHYOGqoubZ",
        "colab_type": "text"
      },
      "source": [
        "# 3. Plot the training error"
      ]
    },
    {
      "cell_type": "code",
      "metadata": {
        "id": "Ct1Zk0DYozF6",
        "colab_type": "code",
        "colab": {}
      },
      "source": [
        ""
      ],
      "execution_count": 0,
      "outputs": []
    },
    {
      "cell_type": "markdown",
      "metadata": {
        "id": "TCgQff2To0yl",
        "colab_type": "text"
      },
      "source": [
        "# 4. Plot the obtained classifier"
      ]
    },
    {
      "cell_type": "code",
      "metadata": {
        "id": "fUqbOcGHo0nT",
        "colab_type": "code",
        "colab": {}
      },
      "source": [
        ""
      ],
      "execution_count": 0,
      "outputs": []
    }
  ]
}