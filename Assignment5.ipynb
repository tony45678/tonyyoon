{
  "nbformat": 4,
  "nbformat_minor": 0,
  "metadata": {
    "colab": {
      "name": "Assignment5.ipynb",
      "provenance": [],
      "collapsed_sections": [],
      "authorship_tag": "ABX9TyMW8nuIqqR7BC04yKw4qrLP",
      "include_colab_link": true
    },
    "kernelspec": {
      "name": "python3",
      "display_name": "Python 3"
    }
  },
  "cells": [
    {
      "cell_type": "markdown",
      "metadata": {
        "id": "view-in-github",
        "colab_type": "text"
      },
      "source": [
        "<a href=\"https://colab.research.google.com/github/tony45678/tonyyoon/blob/master/Assignment5.ipynb\" target=\"_parent\"><img src=\"https://colab.research.google.com/assets/colab-badge.svg\" alt=\"Open In Colab\"/></a>"
      ]
    },
    {
      "cell_type": "markdown",
      "metadata": {
        "id": "ChKf9V5UoYgX",
        "colab_type": "text"
      },
      "source": [
        "# Import Libaries "
      ]
    },
    {
      "cell_type": "code",
      "metadata": {
        "id": "KK0HDc3coU4z",
        "colab_type": "code",
        "colab": {}
      },
      "source": [
        "\n",
        "import cmath \n",
        "import pandas as pd\n",
        "import numpy as np\n",
        "from sklearn.datasets import make_classification\n",
        "from sklearn.linear_model import LogisticRegression \n",
        "from sklearn.model_selection import train_test_split\n",
        "import matplotlib.pyplot as plt \n"
      ],
      "execution_count": 0,
      "outputs": []
    },
    {
      "cell_type": "markdown",
      "metadata": {
        "id": "iMNzK2y1ojTL",
        "colab_type": "text"
      },
      "source": [
        "# 1. Plot the training Data"
      ]
    },
    {
      "cell_type": "code",
      "metadata": {
        "id": "ZzgMIjXyooqW",
        "colab_type": "code",
        "colab": {}
      },
      "source": [
        "def load_data(path, header):\n",
        "    data = pd.read_csv(path, header=header)\n",
        "    return data"
      ],
      "execution_count": 0,
      "outputs": []
    },
    {
      "cell_type": "code",
      "metadata": {
        "id": "-N1pscF7StZy",
        "colab_type": "code",
        "outputId": "6d622066-6b20-49b2-ad9f-174f0a5a058f",
        "colab": {
          "base_uri": "https://localhost:8080/",
          "height": 483
        }
      },
      "source": [
        "if __name__ == \"__main__\":\n",
        "    data = load_data(\"data.txt\",None)\n",
        "\n",
        "    x = data.iloc[:, :1]\n",
        "    y = data.iloc[:, -1]\n",
        "\n",
        "    label_1 = data.loc[y == 1]\n",
        "    label_0 = data.loc[y == 0]\n",
        "\n",
        "\n",
        "    plt.figure(figsize=(8, 8))\n",
        "    plt.scatter(label_1.iloc[:, 0], label_1.iloc[:, 1], alpha=0.5, c ='b')\n",
        "    plt.scatter(label_0.iloc[:, 0], label_0.iloc[:, 1], alpha=0.5, c ='r')\n",
        "    plt.legend(['1','0'])\n",
        "    plt.show()"
      ],
      "execution_count": 533,
      "outputs": [
        {
          "output_type": "display_data",
          "data": {
            "image/png": "[encoded data removed]",
            "text/plain": [
              "<Figure size 576x576 with 1 Axes>"
            ]
          },
          "metadata": {
            "tags": [],
            "needs_background": "light"
          }
        }
      ]
    },
    {
      "cell_type": "markdown",
      "metadata": {
        "id": "LuDvjJQHV9wW",
        "colab_type": "text"
      },
      "source": [
        "# Train Model"
      ]
    },
    {
      "cell_type": "code",
      "metadata": {
        "id": "aE4tlU4Vn3rT",
        "colab_type": "code",
        "colab": {}
      },
      "source": [
        "model = LogisticRegression()      "
      ],
      "execution_count": 0,
      "outputs": []
    },
    {
      "cell_type": "code",
      "metadata": {
        "id": "KFTOPO_fq1WF",
        "colab_type": "code",
        "colab": {}
      },
      "source": [
        "x_train,x_test,y_train,y_test = train_test_split(x,y,random_state = 1)     #splitting the data for the test data and train data"
      ],
      "execution_count": 0,
      "outputs": []
    },
    {
      "cell_type": "code",
      "metadata": {
        "id": "67xrYJE0n6rg",
        "colab_type": "code",
        "outputId": "dde107f1-2959-4bce-a92d-0a4958ec5e6c",
        "colab": {
          "base_uri": "https://localhost:8080/",
          "height": 107
        }
      },
      "source": [
        " model.fit(x_train, y_train)     #fitting the data to the logisticRegression Function"
      ],
      "execution_count": 503,
      "outputs": [
        {
          "output_type": "execute_result",
          "data": {
            "text/plain": [
              "LogisticRegression(C=1.0, class_weight=None, dual=False, fit_intercept=True,\n",
              "                   intercept_scaling=1, l1_ratio=None, max_iter=100,\n",
              "                   multi_class='auto', n_jobs=None, penalty='l2',\n",
              "                   random_state=None, solver='lbfgs', tol=0.0001, verbose=0,\n",
              "                   warm_start=False)"
            ]
          },
          "metadata": {
            "tags": []
          },
          "execution_count": 503
        }
      ]
    },
    {
      "cell_type": "code",
      "metadata": {
        "id": "Jp7IZ9P-qFNY",
        "colab_type": "code",
        "outputId": "c9de3222-e784-4f73-da41-5905c5e02a33",
        "colab": {
          "base_uri": "https://localhost:8080/",
          "height": 35
        }
      },
      "source": [
        "model.score(x_train,y_train)   #Got the score of 81.3% "
      ],
      "execution_count": 504,
      "outputs": [
        {
          "output_type": "execute_result",
          "data": {
            "text/plain": [
              "0.8133333333333334"
            ]
          },
          "metadata": {
            "tags": []
          },
          "execution_count": 504
        }
      ]
    },
    {
      "cell_type": "code",
      "metadata": {
        "id": "mNFHZR3foAZy",
        "colab_type": "code",
        "outputId": "344c910a-db40-48ec-aada-ad38830aa083",
        "colab": {
          "base_uri": "https://localhost:8080/",
          "height": 35
        }
      },
      "source": [
        "print(model.intercept_, model.coef_,model.n_iter_)  #shows the inteception, coefficients, iterations of the train model.s"
      ],
      "execution_count": 505,
      "outputs": [
        {
          "output_type": "stream",
          "text": [
            "[-4.5560691] [[0.08123615]] [22]\n"
          ],
          "name": "stdout"
        }
      ]
    },
    {
      "cell_type": "markdown",
      "metadata": {
        "id": "TczHGzq0opDI",
        "colab_type": "text"
      },
      "source": [
        "# 2. Plot the estimated parameters"
      ]
    },
    {
      "cell_type": "code",
      "metadata": {
        "id": "IB8kqR_H6t8h",
        "colab_type": "code",
        "colab": {}
      },
      "source": [
        "def sigmoid(z):                                #sigmoid function\n",
        "    return 1 / (1 +np.exp(-z))"
      ],
      "execution_count": 0,
      "outputs": []
    },
    {
      "cell_type": "code",
      "metadata": {
        "id": "v74c9ooS652u",
        "colab_type": "code",
        "colab": {
          "base_uri": "https://localhost:8080/",
          "height": 265
        },
        "outputId": "e34d5640-9e7d-4421-f931-91cb98467217"
      },
      "source": [
        "x = np.arange(-20., 30.,1)\n",
        "theta0 = -4.5560691\n",
        "theta1 = 0.08123615\n",
        "theta2 = 22\n",
        "param0 = sigmoid(x)*theta0\n",
        "param1 = sigmoid(x)*theta1\n",
        "param2 = sigmoid(x)*theta2\n",
        "plt.plot(x,param0,color = 'red')\n",
        "plt.plot(x,param1,color = 'green')\n",
        "plt.plot(x,param2,color = 'blue')\n",
        "plt.legend(['param0','parma1','param2'])\n",
        "plt.show()"
      ],
      "execution_count": 413,
      "outputs": [
        {
          "output_type": "display_data",
          "data": {
            "image/png": "[encoded data removed]",
            "text/plain": [
              "<Figure size 432x288 with 1 Axes>"
            ]
          },
          "metadata": {
            "tags": [],
            "needs_background": "light"
          }
        }
      ]
    },
    {
      "cell_type": "markdown",
      "metadata": {
        "id": "lBBHYOGqoubZ",
        "colab_type": "text"
      },
      "source": [
        "# 3. Plot the training error"
      ]
    },
    {
      "cell_type": "code",
      "metadata": {
        "id": "8qr3ySRAufsC",
        "colab_type": "code",
        "colab": {}
      },
      "source": [
        "def costFunction(theta, x, y):\n",
        "\n",
        "    m=len(y)\n",
        "    \n",
        "    predictions = sigmoid(np.dot(x,theta))\n",
        "    error = (-y * np.log(predictions)) - ((1-y)*np.log(1-predictions))\n",
        "\n",
        "    cost = 1/m * sum(error)\n",
        "    grad = 1/m * np.dot(x.transpose(),(predictions - y))\n",
        "    \n",
        "    return cost[0] , grad"
      ],
      "execution_count": 0,
      "outputs": []
    },
    {
      "cell_type": "code",
      "metadata": {
        "id": "jRo1x-wLu1JC",
        "colab_type": "code",
        "colab": {}
      },
      "source": [
        "def gradientDescent(x,y,theta,alpha,num_iters):\n",
        "\n",
        "    m=len(y)\n",
        "    J_history =[]\n",
        "    \n",
        "    for i in range(num_iters):\n",
        "        cost, grad = costFunction(theta,x,y)\n",
        "        theta = theta - (alpha * grad)\n",
        "        J_history.append(cost)\n",
        "    \n",
        "    return theta , J_history"
      ],
      "execution_count": 0,
      "outputs": []
    },
    {
      "cell_type": "markdown",
      "metadata": {
        "id": "TCgQff2To0yl",
        "colab_type": "text"
      },
      "source": [
        "# 4. Plot the obtained classifier"
      ]
    },
    {
      "cell_type": "code",
      "metadata": {
        "id": "fUqbOcGHo0nT",
        "colab_type": "code",
        "colab": {}
      },
      "source": [
        ""
      ],
      "execution_count": 0,
      "outputs": []
    }
  ]
}