{
  "nbformat": 4,
  "nbformat_minor": 0,
  "metadata": {
    "colab": {
      "name": "Assignment6.ipynb",
      "provenance": [],
      "authorship_tag": "ABX9TyO83OdrIe6Bq/B/qsSpdB3k",
      "include_colab_link": true
    },
    "kernelspec": {
      "name": "python3",
      "display_name": "Python 3"
    }
  },
  "cells": [
    {
      "cell_type": "markdown",
      "metadata": {
        "id": "view-in-github",
        "colab_type": "text"
      },
      "source": [
        "<a href=\"https://colab.research.google.com/github/tony45678/tonyyoon/blob/master/Assignment6.ipynb\" target=\"_parent\"><img src=\"https://colab.research.google.com/assets/colab-badge.svg\" alt=\"Open In Colab\"/></a>"
      ]
    },
    {
      "cell_type": "code",
      "metadata": {
        "id": "97SXrnT6BWEr",
        "colab_type": "code",
        "colab": {}
      },
      "source": [
        "import cmath \n",
        "import pandas as pd\n",
        "import numpy as np\n",
        "import matplotlib.pyplot as plt"
      ],
      "execution_count": 0,
      "outputs": []
    },
    {
      "cell_type": "markdown",
      "metadata": {
        "id": "yg7h2xozJXJ-",
        "colab_type": "text"
      },
      "source": [
        "# 1.Plot the training data"
      ]
    },
    {
      "cell_type": "code",
      "metadata": {
        "id": "J_vtnifFIZXo",
        "colab_type": "code",
        "colab": {}
      },
      "source": [
        "def load_data(path, header):\n",
        "    data = pd.read_csv(path, header=header)\n",
        "    return data"
      ],
      "execution_count": 0,
      "outputs": []
    },
    {
      "cell_type": "code",
      "metadata": {
        "id": "yO4gG_N_IjqG",
        "colab_type": "code",
        "colab": {
          "base_uri": "https://localhost:8080/",
          "height": 483
        },
        "outputId": "253d5639-d792-442a-ec3e-effdd9029406"
      },
      "source": [
        "if __name__ == \"__main__\":\n",
        "    data = load_data(\"data-nonlinear.txt\",None)\n",
        "\n",
        "    x = data.iloc[:, :1]\n",
        "    y = data.iloc[:, -1]\n",
        "\n",
        "    label_1 = data.loc[y == 1]\n",
        "    label_0 = data.loc[y == 0]\n",
        "\n",
        "\n",
        "    plt.figure(figsize=(8, 8))\n",
        "    plt.scatter(label_1.iloc[:, 0], label_1.iloc[:, 1], alpha=0.5, c ='b')\n",
        "    plt.scatter(label_0.iloc[:, 0], label_0.iloc[:, 1], alpha=0.5, c ='r')\n",
        "    plt.legend(['1','0'])\n",
        "    plt.show()"
      ],
      "execution_count": 3,
      "outputs": [
        {
          "output_type": "display_data",
          "data": {
            "image/png": "[encoded data removed]",
            "text/plain": [
              "<Figure size 576x576 with 1 Axes>"
            ]
          },
          "metadata": {
            "tags": [],
            "needs_background": "light"
          }
        }
      ]
    },
    {
      "cell_type": "markdown",
      "metadata": {
        "id": "2fEtHPNVJ3b5",
        "colab_type": "text"
      },
      "source": [
        "# 2. Write down the high dimensional function g(x, y;θ)"
      ]
    }
  ]
}