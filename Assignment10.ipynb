{
  "nbformat": 4,
  "nbformat_minor": 0,
  "metadata": {
    "colab": {
      "name": "Assignment10.ipynb",
      "provenance": [],
      "private_outputs": true,
      "authorship_tag": "ABX9TyOIiFfJS1bpBS8fp+CRVqVw",
      "include_colab_link": true
    },
    "kernelspec": {
      "name": "python3",
      "display_name": "Python 3"
    }
  },
  "cells": [
    {
      "cell_type": "markdown",
      "metadata": {
        "id": "view-in-github",
        "colab_type": "text"
      },
      "source": [
        "<a href=\"https://colab.research.google.com/github/tonyyoon123/MachineLearning/blob/master/Assignment10.ipynb\" target=\"_parent\"><img src=\"https://colab.research.google.com/assets/colab-badge.svg\" alt=\"Open In Colab\"/></a>"
      ]
    },
    {
      "cell_type": "markdown",
      "metadata": {
        "id": "_U-2__baWYZn",
        "colab_type": "text"
      },
      "source": [
        "*Import Libaries*"
      ]
    },
    {
      "cell_type": "code",
      "metadata": {
        "id": "XIy4mSIgLRJT",
        "colab_type": "code",
        "colab": {}
      },
      "source": [
        "import matplotlib.pyplot as plt\n",
        "import numpy as np"
      ],
      "execution_count": 0,
      "outputs": []
    },
    {
      "cell_type": "markdown",
      "metadata": {
        "id": "l1pd7vfzWczu",
        "colab_type": "text"
      },
      "source": [
        "*Input Data*"
      ]
    },
    {
      "cell_type": "code",
      "metadata": {
        "id": "dC0-SVvLP8CW",
        "colab_type": "code",
        "colab": {}
      },
      "source": [
        "file_data   = \"mnist.csv\"\n",
        "handle_file = open(file_data, \"r\")\n",
        "data        = handle_file.readlines()\n",
        "handle_file.close()\n",
        "\n",
        "size_row    = 28    # height of the image\n",
        "size_col    = 28    # width of the image\n",
        "\n",
        "num_image   = len(data)\n",
        "count       = 0     # count for the number of images\n",
        "\n",
        "# normalize the values of the input data to be [0, 1]\n",
        "def normalize(data):\n",
        "\n",
        "    data_normalized = (data - min(data)) / (max(data) - min(data))\n",
        "\n",
        "    return(data_normalized)\n",
        "\n",
        "# example of distance function between two vectors x and y\n",
        "def distance(x, y):\n",
        "\n",
        "    d = (x - y) ** 2\n",
        "    s = np.sum(d)\n",
        "    # r = np.sqrt(s)\n",
        "\n",
        "    return(s)\n",
        "\n",
        "# make a matrix each column of which represents an images in a vector form\n",
        "list_image  = np.empty((size_row * size_col, num_image), dtype=float)\n",
        "list_label  = np.empty(num_image, dtype=int)\n",
        "\n",
        "for line in data:\n",
        "  line_data   = line.split(',')\n",
        "  label       = line_data[0]\n",
        "  im_vector   = np.asfarray(line_data[1:])    \n",
        "  list_label[count]       = label\n",
        "  list_image[:, count]    = im_vector\n",
        "  count += 1\n",
        "\n",
        "#consider the first 1,000 images for training and the rest 9,000 images for testing and also transpose the vector\n",
        "train_label = list_label[:1000]  \n",
        "train_image = list_image[:1000]  \n",
        "test_label  = list_label[1000:]  \n",
        "test_image  = list_image[1000:] \n",
        "\n",
        "\n",
        "def sigmoid(z):\n",
        "  return 1 / ( 1 + np.exp(-z))\n",
        "\n"
      ],
      "execution_count": 0,
      "outputs": []
    },
    {
      "cell_type": "code",
      "metadata": {
        "id": "dnKTVFgoQXlJ",
        "colab_type": "code",
        "colab": {}
      },
      "source": [
        ""
      ],
      "execution_count": 0,
      "outputs": []
    },
    {
      "cell_type": "code",
      "metadata": {
        "id": "nNOLUsc4RShq",
        "colab_type": "code",
        "colab": {}
      },
      "source": [
        ""
      ],
      "execution_count": 0,
      "outputs": []
    }
  ]
}