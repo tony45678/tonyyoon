{
  "nbformat": 4,
  "nbformat_minor": 0,
  "metadata": {
    "colab": {
      "name": "Assignment7.ipynb",
      "provenance": [],
      "authorship_tag": "ABX9TyM3Jqm7xVPVwBGWQrXlbyZs",
      "include_colab_link": true
    },
    "kernelspec": {
      "name": "python3",
      "display_name": "Python 3"
    }
  },
  "cells": [
    {
      "cell_type": "markdown",
      "metadata": {
        "id": "view-in-github",
        "colab_type": "text"
      },
      "source": [
        "<a href=\"https://colab.research.google.com/github/tony45678/tonyyoon/blob/master/Assignment7.ipynb\" target=\"_parent\"><img src=\"https://colab.research.google.com/assets/colab-badge.svg\" alt=\"Open In Colab\"/></a>"
      ]
    },
    {
      "cell_type": "markdown",
      "metadata": {
        "id": "2vAmXiE_n5Sr",
        "colab_type": "text"
      },
      "source": [
        "# Import Libaries"
      ]
    },
    {
      "cell_type": "code",
      "metadata": {
        "id": "qPIptRwQnjeq",
        "colab_type": "code",
        "colab": {}
      },
      "source": [
        "import cmath \n",
        "import pandas as pd\n",
        "import numpy as np\n",
        "import matplotlib.pyplot as plt\n",
        "import scipy.optimize as opt"
      ],
      "execution_count": 0,
      "outputs": []
    },
    {
      "cell_type": "code",
      "metadata": {
        "id": "GOtpiVIAn9Bg",
        "colab_type": "code",
        "colab": {}
      },
      "source": [
        "def load_data(path, header):\n",
        "    data = pd.read_csv(path, header=header)\n",
        "    return data"
      ],
      "execution_count": 0,
      "outputs": []
    },
    {
      "cell_type": "markdown",
      "metadata": {
        "id": "aik24swHu2z9",
        "colab_type": "text"
      },
      "source": [
        "# Import Data"
      ]
    },
    {
      "cell_type": "markdown",
      "metadata": {
        "id": "5fGdlaAnoIZv",
        "colab_type": "text"
      },
      "source": [
        "**1. Plot the training data**"
      ]
    },
    {
      "cell_type": "code",
      "metadata": {
        "id": "KiRdzlVxoCTI",
        "colab_type": "code",
        "outputId": "376b9220-5b75-4da0-e696-0590817b9619",
        "colab": {
          "base_uri": "https://localhost:8080/",
          "height": 585
        }
      },
      "source": [
        "data    = np.genfromtxt(\"data-nonlinear.txt\", delimiter=',')\n",
        "\n",
        "pointX  = data[:, 0]\n",
        "pointY  = data[:, 1]\n",
        "label   = data[:, 2]\n",
        "\n",
        "theta = np.array([0., 0., 0.])\n",
        "\n",
        "pointX0 = pointX[label == 0]\n",
        "pointY0 = pointY[label == 0]\n",
        "\n",
        "pointX1 = pointX[label == 1]\n",
        "pointY1 = pointY[label == 1]\n",
        "\n",
        "plt.figure(figsize=(12, 8))\n",
        "plt.scatter(pointX0, pointY0, c='b')\n",
        "plt.scatter(pointX1, pointY1, c='r')\n",
        "\n",
        "plt.legend(['0','1'])\n",
        "plt.tight_layout()\n",
        "plt.show()\n"
      ],
      "execution_count": 89,
      "outputs": [
        {
          "output_type": "display_data",
          "data": {
            "image/png": "[encoded data removed]",
            "text/plain": [
              "<Figure size 864x576 with 1 Axes>"
            ]
          },
          "metadata": {
            "tags": [],
            "needs_background": "light"
          }
        }
      ]
    },
    {
      "cell_type": "markdown",
      "metadata": {
        "id": "ErSI90WN1L-6",
        "colab_type": "text"
      },
      "source": [
        "*Create New polynomial features*"
      ]
    },
    {
      "cell_type": "code",
      "metadata": {
        "id": "XSiTQcxfpEZx",
        "colab_type": "code",
        "colab": {}
      },
      "source": [
        "def map_feature(x1, x2, degree=6):\n",
        "    map_feature_size = x1.size\n",
        "    map_feature = np.ones(shape=(map_feature_size, 1))\n",
        "    \n",
        "    for i in range(1, degree + 1):\n",
        "        for j in range(i + 1):\n",
        "            column = (x1 ** (i - j)) * (x2 ** j)\n",
        "            map_feature = np.append(map_feature, column, axis=1)   \n",
        "    return map_feature"
      ],
      "execution_count": 0,
      "outputs": []
    },
    {
      "cell_type": "code",
      "metadata": {
        "id": "7W3-Xz-vxDDy",
        "colab_type": "code",
        "outputId": "8fb03c9e-b6da-40e9-eab6-e39d617ba20d",
        "colab": {
          "base_uri": "https://localhost:8080/",
          "height": 35
        }
      },
      "source": [
        "x = data[:, :2]\n",
        "\n",
        "x1 = x[:, [0]]\n",
        "x2 = x[:, [1]]\n",
        "\n",
        "map = map_feature(x1, x2)\n",
        "print(map.shape)"
      ],
      "execution_count": 98,
      "outputs": [
        {
          "output_type": "stream",
          "text": [
            "(118, 28)\n"
          ],
          "name": "stdout"
        }
      ]
    },
    {
      "cell_type": "markdown",
      "metadata": {
        "id": "XOILUw4FirKg",
        "colab_type": "text"
      },
      "source": [
        "# Cost Function & Gradient Descent"
      ]
    },
    {
      "cell_type": "markdown",
      "metadata": {
        "id": "_Mjf32u-xYyf",
        "colab_type": "text"
      },
      "source": [
        "*Cost Function* "
      ]
    },
    {
      "cell_type": "code",
      "metadata": {
        "id": "hSzsqZDrxhbB",
        "colab_type": "code",
        "colab": {}
      },
      "source": [
        "def sigmoid(z):\n",
        "     return 1 / (1 + np.exp(-z))"
      ],
      "execution_count": 0,
      "outputs": []
    },
    {
      "cell_type": "code",
      "metadata": {
        "id": "ECzjCadOxms2",
        "colab_type": "code",
        "colab": {}
      },
      "source": [
        "def cost_function(theta, x, y, lambdaa = 12):  \n",
        "    \n",
        "    m = len(x)\n",
        "    z = 0.000001\n",
        "    \n",
        "    #hypothesis to avoid zeros\n",
        "    param = (x.dot(theta))\n",
        "    hypo = sigmoid(param)\n",
        "    hypo[hypo == 0] = z\n",
        "    \n",
        "    #Intervals to avoid zeros\n",
        "    interval = 1 - hypo\n",
        "    interval[interval == 0] = z\n",
        "    \n",
        "    y1 = y * np.log(hypo)\n",
        "    y0 = (1 - y) * np.log(interval)\n",
        "    y2 = theta**2\n",
        "    \n",
        "    cost = ((-1./m) * np.sum(y1 + y0)) + ((lambdaa/(2*m)) * np.sum(y2))\n",
        "    \n",
        "    return cost"
      ],
      "execution_count": 0,
      "outputs": []
    },
    {
      "cell_type": "code",
      "metadata": {
        "id": "tzwdUQ_YxtbB",
        "colab_type": "code",
        "outputId": "35ea1b68-ce91-4c56-cdb6-81e3ff1e7b69",
        "colab": {
          "base_uri": "https://localhost:8080/",
          "height": 53
        }
      },
      "source": [
        "theta = np.zeros(maped.shape[1])\n",
        "y = data[:, 2]\n",
        "\n",
        "cost = cost_function(theta, maped, y, lambdaa = 12)\n",
        "print('Cost Function :')\n",
        "print(cost)"
      ],
      "execution_count": 154,
      "outputs": [
        {
          "output_type": "stream",
          "text": [
            "Cost Function :\n",
            "0.6931471805599454\n"
          ],
          "name": "stdout"
        }
      ]
    },
    {
      "cell_type": "code",
      "metadata": {
        "id": "4Vdisxk618nv",
        "colab_type": "code",
        "colab": {}
      },
      "source": [
        "def gradient(theta, X, y, lambdaa):\n",
        "    theta = matrix(theta)\n",
        "    X = matrix(X)\n",
        "    y = matrix(y)\n",
        "    m = len(y)\n",
        "    param = shape(X)[1]\n",
        "    zeros = X*theta.T\n",
        "    hypothesis = sigmoid(z)\n",
        "    grad = (h-y).T*X/m\n",
        "    grad[0,1:param] += lambdda/m*theta[0,1:]\n",
        "    return grad"
      ],
      "execution_count": 0,
      "outputs": []
    },
    {
      "cell_type": "code",
      "metadata": {
        "id": "myGcr-f6456O",
        "colab_type": "code",
        "colab": {}
      },
      "source": [
        ""
      ],
      "execution_count": 0,
      "outputs": []
    },
    {
      "cell_type": "markdown",
      "metadata": {
        "id": "ER5ehlOOQ6GH",
        "colab_type": "text"
      },
      "source": [
        "*Gradient Descent*"
      ]
    },
    {
      "cell_type": "code",
      "metadata": {
        "id": "lCxOxSUlQvyh",
        "colab_type": "code",
        "colab": {}
      },
      "source": [
        "def gradient_descent(x, y, theta, lambdaa, tolerance, log=False):\n",
        "    m = y.size\n",
        "    episilon = 0.000001\n",
        "    zero     = 0.000001\n",
        "    residual = np.ones(tolerance)\n",
        "    J        = np.zeros(tolerance)\n",
        "    interact = 0\n",
        "    converge = False\n",
        "    \n",
        "    while not converge:\n",
        "        \n",
        "        ' Start adjusting theta values '\n",
        "        hypo = sigmoid(x.dot(theta))\n",
        "        error = hypo - y\n",
        "        \n",
        "        error[error == 0] = zero\n",
        "        \n",
        "        gradient = ((1./m) * (x.T.dot(error))) + ((lambdaa/(2*m)) * theta)\n",
        "        \n",
        "        tmpTheta = theta\n",
        "        theta = theta - gradient\n",
        "        \n",
        "        ' Run the cost function over the data with new theta '\n",
        "        J[interact] = cost_function(theta, x, y, lambdaa)\n",
        "        \n",
        "        step = abs(np.linalg.norm(theta) - np.linalg.norm(tmpTheta))        \n",
        "        converge = (step <= episilon)\n",
        "        \n",
        "        residual[interact] = step\n",
        "        \n",
        "        if interact % 100 == 0 and log:\n",
        "            ' The main idea here is to minimize the error value when evaluating the hypothesis '\n",
        "            print('Interaction ' + str(interact) + ', Redidual error output :' + str(J[interact]) + ', Step size: ' + str(step))\n",
        "        \n",
        "        if (interact + 1) == tolerance:\n",
        "            print('Caution! The routine has reached the maximum tolerance! Results may not converge.')\n",
        "            converge = True\n",
        "            \n",
        "        interact = interact + 1\n",
        "    \n",
        "    '''\n",
        "        For j = 0 whe do not sum the last term\n",
        "    '''\n",
        "    gradient[0] = gradient[0] - ((lamb/(2*m)) * theta)[0]\n",
        "        \n",
        "    return theta, J, interact, residual, gradient"
      ],
      "execution_count": 0,
      "outputs": []
    },
    {
      "cell_type": "code",
      "metadata": {
        "id": "0MAU7CYsYfQ4",
        "colab_type": "code",
        "colab": {
          "base_uri": "https://localhost:8080/",
          "height": 197
        },
        "outputId": "7025abc4-639a-4a67-d0d0-d6b08c0fa07f"
      },
      "source": [
        "op_theta, cost, it, r, grad = gradient_descent(maped, y, theta, 1, 2000)\n",
        "print('Initial cost')\n",
        "print(cost[0])\n",
        "\n",
        "print('Initial Gradient')\n",
        "print(grad)"
      ],
      "execution_count": 158,
      "outputs": [
        {
          "output_type": "stream",
          "text": [
            "Initial cost\n",
            "0.6812915551427071\n",
            "Initial Gradient\n",
            "[-6.67793403e-03  8.12568222e-08 -4.50150933e-07 -6.29245605e-10\n",
            "  1.81721521e-06  1.05118342e-06 -1.26892769e-07 -1.56963099e-07\n",
            " -1.36211579e-06  1.08716302e-06  8.76760059e-09 -2.27969878e-06\n",
            "  3.90515046e-07  1.81771148e-07  4.96013112e-07  5.86466148e-07\n",
            " -5.10433444e-07 -1.85348382e-06  7.75806602e-07  3.01099494e-07\n",
            " -1.09336175e-06  1.91240406e-07 -1.43593393e-06 -5.01865646e-08\n",
            " -1.39789288e-06  6.72384371e-07  3.39052775e-07 -1.45569672e-06]\n"
          ],
          "name": "stdout"
        }
      ]
    }
  ]
}