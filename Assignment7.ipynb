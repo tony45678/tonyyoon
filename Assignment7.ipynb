{
  "nbformat": 4,
  "nbformat_minor": 0,
  "metadata": {
    "colab": {
      "name": "Assignment7.ipynb",
      "provenance": [],
      "collapsed_sections": [],
      "authorship_tag": "ABX9TyPb0kqQha46jxUPMJ1yaNmn"
    },
    "kernelspec": {
      "name": "python3",
      "display_name": "Python 3"
    }
  },
  "cells": [
    {
      "cell_type": "markdown",
      "metadata": {
        "id": "2vAmXiE_n5Sr",
        "colab_type": "text"
      },
      "source": [
        "# Import Libaries"
      ]
    },
    {
      "cell_type": "code",
      "metadata": {
        "id": "qPIptRwQnjeq",
        "colab_type": "code",
        "colab": {}
      },
      "source": [
        "import cmath \n",
        "import pandas as pd\n",
        "import numpy as np\n",
        "import matplotlib.pyplot as plt\n",
        "import scipy.optimize as opt"
      ],
      "execution_count": 0,
      "outputs": []
    },
    {
      "cell_type": "markdown",
      "metadata": {
        "id": "aik24swHu2z9",
        "colab_type": "text"
      },
      "source": [
        "# Import Data"
      ]
    },
    {
      "cell_type": "markdown",
      "metadata": {
        "id": "5fGdlaAnoIZv",
        "colab_type": "text"
      },
      "source": [
        "**1. Plot the training data**"
      ]
    },
    {
      "cell_type": "code",
      "metadata": {
        "id": "KiRdzlVxoCTI",
        "colab_type": "code",
        "outputId": "cc19d768-5ec3-4d0b-fd70-2a11280fd2f6",
        "colab": {
          "base_uri": "https://localhost:8080/",
          "height": 585
        }
      },
      "source": [
        "data    = np.genfromtxt(\"data-nonlinear.txt\", delimiter=',')\n",
        "\n",
        "\n",
        "pointX  = data[:, 0]\n",
        "pointY  = data[:, 1]\n",
        "label   = data[:, 2]\n",
        "\n",
        "pointX0 = pointX[label == 0]\n",
        "pointY0 = pointY[label == 0]\n",
        "\n",
        "pointX1 = pointX[label == 1]\n",
        "pointY1 = pointY[label == 1]\n",
        "\n",
        "plt.figure(figsize=(8, 8))\n",
        "plt.scatter(pointX0, pointY0, c='b')\n",
        "plt.scatter(pointX1, pointY1, c='r')\n",
        "\n",
        "plt.legend(['0','1'])\n",
        "plt.tight_layout()\n",
        "plt.show()\n"
      ],
      "execution_count": 86,
      "outputs": [
        {
          "output_type": "display_data",
          "data": {
            "image/png": "[encoded data removed]",
            "text/plain": [
              "<Figure size 576x576 with 1 Axes>"
            ]
          },
          "metadata": {
            "tags": [],
            "needs_background": "light"
          }
        }
      ]
    },
    {
      "cell_type": "markdown",
      "metadata": {
        "id": "ErSI90WN1L-6",
        "colab_type": "text"
      },
      "source": [
        "*Create New polynomial features*"
      ]
    },
    {
      "cell_type": "code",
      "metadata": {
        "id": "XSiTQcxfpEZx",
        "colab_type": "code",
        "colab": {}
      },
      "source": [
        "def map_feature(x1, x2, degree = 6):\n",
        "    \n",
        "    map_feature_size = x1.size\n",
        "    map_feature = np.ones(shape=(map_feature_size, 1))\n",
        "    \n",
        "    for i in range(1, degree + 1):\n",
        "        for j in range(i + 1):\n",
        "            column = (x1 ** (i - j)) * (x2 ** j)\n",
        "            map_feature = np.append(map_feature, column, axis=1)   \n",
        "    return map_feature"
      ],
      "execution_count": 0,
      "outputs": []
    },
    {
      "cell_type": "code",
      "metadata": {
        "id": "7W3-Xz-vxDDy",
        "colab_type": "code",
        "outputId": "3b026d29-af04-4754-90dd-ff229c751cfd",
        "colab": {
          "base_uri": "https://localhost:8080/",
          "height": 35
        }
      },
      "source": [
        "x = data[:, :2]\n",
        "\n",
        "x1 = x[:, [0]]\n",
        "x2 = x[:, [1]]\n",
        "\n",
        "map = map_feature(x1, x2)\n",
        "print(map.shape)"
      ],
      "execution_count": 77,
      "outputs": [
        {
          "output_type": "stream",
          "text": [
            "(118, 28)\n"
          ],
          "name": "stdout"
        }
      ]
    },
    {
      "cell_type": "markdown",
      "metadata": {
        "id": "XOILUw4FirKg",
        "colab_type": "text"
      },
      "source": [
        "# Cost Function & Gradient Descent"
      ]
    },
    {
      "cell_type": "markdown",
      "metadata": {
        "id": "_Mjf32u-xYyf",
        "colab_type": "text"
      },
      "source": [
        "*Cost Function* "
      ]
    },
    {
      "cell_type": "code",
      "metadata": {
        "id": "hSzsqZDrxhbB",
        "colab_type": "code",
        "colab": {}
      },
      "source": [
        "def sigmoid(z):\n",
        "     return 1 / (1 + np.exp(-z))"
      ],
      "execution_count": 0,
      "outputs": []
    },
    {
      "cell_type": "code",
      "metadata": {
        "id": "ECzjCadOxms2",
        "colab_type": "code",
        "colab": {}
      },
      "source": [
        "def cost_function(theta, x, y, lambdaa ):  \n",
        "    \n",
        "    m = len(x)\n",
        "    z = 0.001\n",
        "    \n",
        "    #hypothesis to avoid zeros\n",
        "    param = (x.dot(theta))\n",
        "    hypo = sigmoid(param)\n",
        "    hypo[hypo == 0] = z\n",
        "    \n",
        "    #Intervals to avoid zeros\n",
        "    interval = 1 - hypo\n",
        "    interval[interval == 0] = z\n",
        "    \n",
        "    y1 = y * np.log(hypo)\n",
        "    y0 = (1 - y) * np.log(interval)\n",
        "    y2 = theta**2\n",
        "    \n",
        "    cost = ((-1./m) * np.sum(y1 + y0)) + ((lambdaa/(2*m)) * np.sum(y2))\n",
        "    \n",
        "    return cost"
      ],
      "execution_count": 0,
      "outputs": []
    },
    {
      "cell_type": "code",
      "metadata": {
        "id": "tzwdUQ_YxtbB",
        "colab_type": "code",
        "outputId": "e7529893-daf5-4db5-d735-ab4fa6511b96",
        "colab": {
          "base_uri": "https://localhost:8080/",
          "height": 53
        }
      },
      "source": [
        "theta = np.zeros(map.shape[1])\n",
        "y = data[:, 2]\n",
        "\n",
        "cost = cost_function(theta, map, y, lambdaa = 12)\n",
        "print('Cost Function :')\n",
        "print(cost)"
      ],
      "execution_count": 88,
      "outputs": [
        {
          "output_type": "stream",
          "text": [
            "Cost Function :\n",
            "0.6931471805599454\n"
          ],
          "name": "stdout"
        }
      ]
    },
    {
      "cell_type": "markdown",
      "metadata": {
        "id": "ER5ehlOOQ6GH",
        "colab_type": "text"
      },
      "source": [
        "*Gradient Descent*"
      ]
    },
    {
      "cell_type": "code",
      "metadata": {
        "id": "lCxOxSUlQvyh",
        "colab_type": "code",
        "colab": {}
      },
      "source": [
        "def gradient_descent(x, y, theta, lambdaa, tolerance, log=False):\n",
        "    m = y.size\n",
        "    episilon = 0.001\n",
        "    zero     = 0.001\n",
        "    residual = np.ones(tolerance)\n",
        "    J        = np.zeros(tolerance)\n",
        "    interact = 0\n",
        "    converge = False\n",
        "    \n",
        "    while not converge:\n",
        "        \n",
        "        ' Start adjusting theta values '\n",
        "        hypo = sigmoid(x.dot(theta))\n",
        "        error = hypo - y\n",
        "        \n",
        "        error[error == 0] = zero\n",
        "        \n",
        "        gradient = ((1./m) * (x.T.dot(error))) + ((lambdaa/(2*m)) * theta)\n",
        "        \n",
        "        tmpTheta = theta\n",
        "        theta = theta - gradient\n",
        "        \n",
        "        ' Run the cost function over the data with new theta '\n",
        "        J[interact] = cost_function(theta, x, y, lambdaa)\n",
        "        \n",
        "        step = abs(np.linalg.norm(theta) - np.linalg.norm(tmpTheta))        \n",
        "        converge = (step <= episilon)\n",
        "        \n",
        "        residual[interact] = step\n",
        "        \n",
        "        if interact % 100 == 0 and log:\n",
        "            ' The main idea here is to minimize the error value when evaluating the hypothesis '\n",
        "            print('Interaction ' + str(interact) + ', Redidual error output :' + str(J[interact]) + ', Step size: ' + str(step))\n",
        "        \n",
        "        if (interact + 1) == tolerance:\n",
        "            print('Caution! The routine has reached the maximum tolerance! Results may not converge.')\n",
        "            converge = True\n",
        "            \n",
        "        interact = interact + 1\n",
        "    \n",
        "    '''\n",
        "        For j = 0 whe do not sum the last term\n",
        "    '''\n",
        "    gradient[0] = gradient[0] - ((lambdaa/(2*m)) * theta)[0]\n",
        "        \n",
        "    return theta, J, interact, residual, gradient"
      ],
      "execution_count": 0,
      "outputs": []
    },
    {
      "cell_type": "code",
      "metadata": {
        "id": "0MAU7CYsYfQ4",
        "colab_type": "code",
        "outputId": "93bdb244-cf3a-4aac-a7d5-cb59aa2eb39c",
        "colab": {
          "base_uri": "https://localhost:8080/",
          "height": 197
        }
      },
      "source": [
        "op_theta, cost, it, r, grad = gradient_descent(map, y, theta,1,2000)\n",
        "print('Cost :')\n",
        "print(cost[0])\n",
        "\n",
        "print('Gradient : ')\n",
        "print(grad)"
      ],
      "execution_count": 91,
      "outputs": [
        {
          "output_type": "stream",
          "text": [
            "Cost :\n",
            "0.6812915551427071\n",
            "Gradient : \n",
            "[-6.80367953e-03 -1.96528977e-04 -2.48875444e-04  3.21806138e-04\n",
            "  5.07803053e-04  6.57189806e-04 -1.31618196e-04  1.63439366e-04\n",
            "  3.82647323e-05 -1.51688166e-05  2.76581442e-04 -1.72124687e-04\n",
            "  2.44920714e-04  1.72987150e-04  2.54828482e-04  4.23766855e-05\n",
            "  2.85114723e-05 -1.32247162e-04  1.59581261e-04  1.59592844e-04\n",
            " -2.15708745e-04  2.21685251e-04 -1.44559716e-04  9.33056274e-05\n",
            " -1.02307656e-04  1.49237085e-04  1.32777034e-04 -1.00723874e-04]\n"
          ],
          "name": "stdout"
        }
      ]
    }
  ]
}