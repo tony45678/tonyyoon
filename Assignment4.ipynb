{
  "nbformat": 4,
  "nbformat_minor": 0,
  "metadata": {
    "colab": {
      "name": "Assignment4.ipynb",
      "provenance": [],
      "authorship_tag": "ABX9TyNWF0ddZSiPdlST/zGK8DYG",
      "include_colab_link": true
    },
    "kernelspec": {
      "name": "python3",
      "display_name": "Python 3"
    }
  },
  "cells": [
    {
      "cell_type": "markdown",
      "metadata": {
        "id": "view-in-github",
        "colab_type": "text"
      },
      "source": [
        "<a href=\"https://colab.research.google.com/github/tony45678/tonyyoon/blob/master/Assignment4.ipynb\" target=\"_parent\"><img src=\"https://colab.research.google.com/assets/colab-badge.svg\" alt=\"Open In Colab\"/></a>"
      ]
    },
    {
      "cell_type": "markdown",
      "metadata": {
        "id": "oHIsLGzM2NUl",
        "colab_type": "text"
      },
      "source": [
        "#  1. Plot the estimated parameters using the training dataset "
      ]
    },
    {
      "cell_type": "code",
      "metadata": {
        "id": "j3VsM1iBjNbz",
        "colab_type": "code",
        "colab": {}
      },
      "source": [
        ""
      ],
      "execution_count": 0,
      "outputs": []
    },
    {
      "cell_type": "markdown",
      "metadata": {
        "id": "cesHvfVD2ZTW",
        "colab_type": "text"
      },
      "source": [
        "# 2. Plot the training error using the training dataset "
      ]
    },
    {
      "cell_type": "code",
      "metadata": {
        "id": "TxqoTLRF2j4b",
        "colab_type": "code",
        "colab": {}
      },
      "source": [
        ""
      ],
      "execution_count": 0,
      "outputs": []
    },
    {
      "cell_type": "markdown",
      "metadata": {
        "id": "e6OCLtuW2d78",
        "colab_type": "text"
      },
      "source": [
        "#  3. Plot the testing error using the testing dataset at every iteration of gradient descent until convergence "
      ]
    },
    {
      "cell_type": "code",
      "metadata": {
        "id": "ifV-_Oxe2kmh",
        "colab_type": "code",
        "colab": {}
      },
      "source": [
        ""
      ],
      "execution_count": 0,
      "outputs": []
    }
  ]
}