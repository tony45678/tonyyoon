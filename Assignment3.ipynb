{
  "nbformat": 4,
  "nbformat_minor": 0,
  "metadata": {
    "colab": {
      "name": "Assignment3.ipynb",
      "provenance": [],
      "collapsed_sections": [],
      "toc_visible": true,
      "authorship_tag": "ABX9TyPVX6v92NQYJHpHFPS8d7Ai",
      "include_colab_link": true
    },
    "kernelspec": {
      "name": "python3",
      "display_name": "Python 3"
    }
  },
  "cells": [
    {
      "cell_type": "markdown",
      "metadata": {
        "id": "view-in-github",
        "colab_type": "text"
      },
      "source": [
        "<a href=\"https://colab.research.google.com/github/tony45678/tonyyoon/blob/master/Assignment3.ipynb\" target=\"_parent\"><img src=\"https://colab.research.google.com/assets/colab-badge.svg\" alt=\"Open In Colab\"/></a>"
      ]
    },
    {
      "cell_type": "markdown",
      "metadata": {
        "id": "JpEClP-crvvz",
        "colab_type": "text"
      },
      "source": [
        "# Import Libary"
      ]
    },
    {
      "cell_type": "code",
      "metadata": {
        "id": "pXdn0YfUiKTT",
        "colab_type": "code",
        "colab": {}
      },
      "source": [
        "import os\n",
        "import pandas as pd\n",
        "import numpy as np\n",
        "from sklearn.metrics import r2_score\n",
        "import matplotlib.pyplot as plt \n",
        "%matplotlib inline"
      ],
      "execution_count": 0,
      "outputs": []
    },
    {
      "cell_type": "markdown",
      "metadata": {
        "id": "0Hk-ZBDmr1CN",
        "colab_type": "text"
      },
      "source": [
        "# Import Data"
      ]
    },
    {
      "cell_type": "code",
      "metadata": {
        "id": "zOt243m5jA9E",
        "colab_type": "code",
        "colab": {}
      },
      "source": [
        "path = \"data.csv\"\n",
        "data = np.genfromtxt(path, delimiter=',')\n",
        "#data\n",
        "x_data= data[:, 0]\n",
        "y_data= data[:, 1]\n"
      ],
      "execution_count": 0,
      "outputs": []
    },
    {
      "cell_type": "markdown",
      "metadata": {
        "id": "PSZdtKPjr5O1",
        "colab_type": "text"
      },
      "source": [
        "# Assignment 1 : Input points "
      ]
    },
    {
      "cell_type": "code",
      "metadata": {
        "id": "ie4IeqM-jYeR",
        "colab_type": "code",
        "outputId": "8eaff2b2-61e2-42e7-98db-eb166a96ab24",
        "colab": {
          "base_uri": "https://localhost:8080/",
          "height": 313
        }
      },
      "source": [
        "plt.scatter(x_data,y_data, alpha=0.3, color ='black')\n",
        "plt.title('Assignment 3 - 1')\n",
        "plt.xlabel('X AXIS')\n",
        "plt.ylabel('Y AXIS')\n",
        "plt.legend(['points' ])"
      ],
      "execution_count": 138,
      "outputs": [
        {
          "output_type": "execute_result",
          "data": {
            "text/plain": [
              "<matplotlib.legend.Legend at 0x7f7e883067b8>"
            ]
          },
          "metadata": {
            "tags": []
          },
          "execution_count": 138
        },
        {
          "output_type": "display_data",
          "data": {
            "image/png": "[encoded data removed]",
            "text/plain": [
              "<Figure size 432x288 with 1 Axes>"
            ]
          },
          "metadata": {
            "tags": []
          }
        }
      ]
    },
    {
      "cell_type": "markdown",
      "metadata": {
        "id": "RaW4mD67sMaa",
        "colab_type": "text"
      },
      "source": [
        "# Assignment 2:  Linear regression result "
      ]
    },
    {
      "cell_type": "code",
      "metadata": {
        "id": "HAVWbTrsBqsV",
        "colab_type": "code",
        "colab": {}
      },
      "source": [
        "model = np.polyfit(x_data,y_data,1)"
      ],
      "execution_count": 0,
      "outputs": []
    },
    {
      "cell_type": "code",
      "metadata": {
        "id": "hauypw5UB77m",
        "colab_type": "code",
        "colab": {
          "base_uri": "https://localhost:8080/",
          "height": 283
        },
        "outputId": "4cf63b9e-2586-48e7-9296-61a74d216d24"
      },
      "source": [
        "plt.plot(model) # estimated straight line"
      ],
      "execution_count": 170,
      "outputs": [
        {
          "output_type": "execute_result",
          "data": {
            "text/plain": [
              "[<matplotlib.lines.Line2D at 0x7f7e7ca3d6a0>]"
            ]
          },
          "metadata": {
            "tags": []
          },
          "execution_count": 170
        },
        {
          "output_type": "display_data",
          "data": {
            "image/png": "[encoded data removed]",
            "text/plain": [
              "<Figure size 432x288 with 1 Axes>"
            ]
          },
          "metadata": {
            "tags": []
          }
        }
      ]
    },
    {
      "cell_type": "code",
      "metadata": {
        "id": "xcy0-Y8yCSlf",
        "colab_type": "code",
        "colab": {
          "base_uri": "https://localhost:8080/",
          "height": 35
        },
        "outputId": "4c72d185-9cd0-40d0-deb5-bbb64d29f805"
      },
      "source": [
        "model   # show the  best a , b of the funtion y= ax+b  "
      ],
      "execution_count": 201,
      "outputs": [
        {
          "output_type": "execute_result",
          "data": {
            "text/plain": [
              "array([ 9.93463554, 24.90739329])"
            ]
          },
          "metadata": {
            "tags": []
          },
          "execution_count": 201
        }
      ]
    },
    {
      "cell_type": "code",
      "metadata": {
        "id": "_oxuHHZhCkkg",
        "colab_type": "code",
        "colab": {}
      },
      "source": [
        "line = 9.93463554 * x +24.90739329"
      ],
      "execution_count": 0,
      "outputs": []
    },
    {
      "cell_type": "code",
      "metadata": {
        "id": "0XPzg5bbEBSi",
        "colab_type": "code",
        "colab": {}
      },
      "source": [
        "predict = np.poly1d(model)"
      ],
      "execution_count": 0,
      "outputs": []
    },
    {
      "cell_type": "code",
      "metadata": {
        "id": "YPh2WzxoEH3J",
        "colab_type": "code",
        "colab": {
          "base_uri": "https://localhost:8080/",
          "height": 35
        },
        "outputId": "256389df-9e72-4ba8-e766-904c996153b9"
      },
      "source": [
        "r2_score(y,predict(x)) # R square value"
      ],
      "execution_count": 175,
      "outputs": [
        {
          "output_type": "execute_result",
          "data": {
            "text/plain": [
              "1.0"
            ]
          },
          "metadata": {
            "tags": []
          },
          "execution_count": 175
        }
      ]
    },
    {
      "cell_type": "code",
      "metadata": {
        "id": "MYXg_eHOEXv2",
        "colab_type": "code",
        "colab": {
          "base_uri": "https://localhost:8080/",
          "height": 313
        },
        "outputId": "ea7781ea-6535-4b56-f993-eb82e8e4f330"
      },
      "source": [
        "x_linear = range(-10,20)\n",
        "y_linear = predict(x_linear)\n",
        "plt.scatter(x_data,y_data, alpha=0.3, color ='black')\n",
        "plt.plot(x_linear, y_linear, color = 'red')\n",
        "plt.title('Assignment 3 - 2')\n",
        "plt.xlabel('X AXIS')\n",
        "plt.ylabel('Y AXIS')\n",
        "plt.legend(['Linear Regression','Points' ])"
      ],
      "execution_count": 177,
      "outputs": [
        {
          "output_type": "execute_result",
          "data": {
            "text/plain": [
              "<matplotlib.legend.Legend at 0x7f7e7c96ffd0>"
            ]
          },
          "metadata": {
            "tags": []
          },
          "execution_count": 177
        },
        {
          "output_type": "display_data",
          "data": {
            "image/png": "[encoded data removed]",
            "text/plain": [
              "<Figure size 432x288 with 1 Axes>"
            ]
          },
          "metadata": {
            "tags": []
          }
        }
      ]
    },
    {
      "cell_type": "markdown",
      "metadata": {
        "id": "FFJupOhVc0Ac",
        "colab_type": "text"
      },
      "source": [
        "# Assignment 3 : Plotting the energy Value"
      ]
    },
    {
      "cell_type": "code",
      "metadata": {
        "id": "dqFi6oX3jpt2",
        "colab_type": "code",
        "colab": {
          "base_uri": "https://localhost:8080/",
          "height": 35
        },
        "outputId": "76168ec4-9503-4f45-b628-9fb186edc033"
      },
      "source": [
        "x_data= data[:, 0]\n",
        "y_data= data[:, 1]\n",
        "cost = []\n",
        "\n",
        "A =  9.93463554\n",
        "B = 24.90739329\n",
        " \n",
        "n_iter = 100\n",
        "lr = 0.01\n",
        "\n",
        "for i in range(-30, 30):        #cost function calculation\n",
        "    y_pred = np.multiply(A, x_data) + b\n",
        "    Loss_error = 0.5 * (y_pred - y_data)**2\n",
        "    cost = np.sum(Loss_error)/10\n",
        "\n",
        "print(\"Cost:\",cost)\n",
        "\n"
      ],
      "execution_count": 277,
      "outputs": [
        {
          "output_type": "stream",
          "text": [
            "Cost: 5410.225645265666\n"
          ],
          "name": "stdout"
        }
      ]
    },
    {
      "cell_type": "code",
      "metadata": {
        "id": "CFD2b2PBlLpz",
        "colab_type": "code",
        "colab": {
          "base_uri": "https://localhost:8080/",
          "height": 284
        },
        "outputId": "4cffe7af-040d-4f1a-ab9c-2d595c432ac1"
      },
      "source": [
        "plt.plot(cost)"
      ],
      "execution_count": 265,
      "outputs": [
        {
          "output_type": "execute_result",
          "data": {
            "text/plain": [
              "[<matplotlib.lines.Line2D at 0x7f7e7c6c2160>]"
            ]
          },
          "metadata": {
            "tags": []
          },
          "execution_count": 265
        },
        {
          "output_type": "display_data",
          "data": {
            "image/png": "[encoded data removed]",
            "text/plain": [
              "<Figure size 432x288 with 1 Axes>"
            ]
          },
          "metadata": {
            "tags": []
          }
        }
      ]
    }
  ]
}