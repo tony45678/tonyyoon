{
  "nbformat": 4,
  "nbformat_minor": 0,
  "metadata": {
    "colab": {
      "name": "Assignment9.ipynb",
      "provenance": [],
      "collapsed_sections": [],
      "authorship_tag": "ABX9TyO1krAargCIDFCJkLKZ2xfM",
      "include_colab_link": true
    },
    "kernelspec": {
      "name": "python3",
      "display_name": "Python 3"
    }
  },
  "cells": [
    {
      "cell_type": "markdown",
      "metadata": {
        "id": "view-in-github",
        "colab_type": "text"
      },
      "source": [
        "<a href=\"https://colab.research.google.com/github/tonyyoon123/MachineLearning/blob/master/Assignment9.ipynb\" target=\"_parent\"><img src=\"https://colab.research.google.com/assets/colab-badge.svg\" alt=\"Open In Colab\"/></a>"
      ]
    },
    {
      "cell_type": "code",
      "metadata": {
        "id": "B-tiok9fRRlv",
        "colab_type": "code",
        "colab": {}
      },
      "source": [
        "import matplotlib.pyplot as plt\n",
        "import numpy as np"
      ],
      "execution_count": 0,
      "outputs": []
    },
    {
      "cell_type": "code",
      "metadata": {
        "id": "P8yE9JV_RlcW",
        "colab_type": "code",
        "colab": {}
      },
      "source": [
        "file_data   = \"mnist.csv\"\n",
        "handle_file = open(file_data, \"r\")\n",
        "data        = handle_file.readlines()\n",
        "handle_file.close()\n",
        "\n",
        "size_row    = 28    # height of the image\n",
        "size_col    = 28    # width of the image\n",
        "\n",
        "num_image   = len(data)\n",
        "count       = 0     # count for the number of images\n",
        "\n",
        "# normalize the values of the input data to be [0, 1]\n",
        "def normalize(data):\n",
        "\n",
        "    data_normalized = (data - min(data)) / (max(data) - min(data))\n",
        "\n",
        "    return(data_normalized)\n",
        "\n",
        "# example of distance function between two vectors x and y\n",
        "def distance(x, y):\n",
        "\n",
        "    d = (x - y) ** 2\n",
        "    s = np.sum(d)\n",
        "    # r = np.sqrt(s)\n",
        "\n",
        "    return(s)\n",
        "\n",
        "# make a matrix each column of which represents an images in a vector form\n",
        "list_image  = np.empty((size_row * size_col, num_image), dtype=float)\n",
        "list_label  = np.empty(num_image, dtype=int)\n",
        "\n",
        "#split data into 6000(train), 4000(test) and transpose \n",
        "train_label = list_label.T[:6000]  # 6000,784\n",
        "train_image = list_image.T[:6000]  # 6000 \n",
        "\n",
        "test_label  = list_label.T[6000:]  # 4000,784\n",
        "test_image  = list_image.T[6000:]  # 4000 \n",
        "\n",
        "class Network(object):\n",
        "  def init(self, alpha,iterations):\n",
        "    self.alpha = alpha\n",
        "    #self.sizes = sizes\n",
        "    self.iterations = iterations\n",
        "  \n",
        "  def \n",
        "  def sigmoid(self, z):\n",
        "    return 1 / (1 + np.exp(-z))\n",
        "\n",
        "  # label = l, output = h   \n",
        "  def cost_function(self, label, output):\n",
        "    cost = np.sum((-label*np.log(output))- (1-label)*np.log(1.-output))\n",
        "    return cost\n",
        "\n",
        "  def forward_propagation(self,)::    \n",
        "  def predict(self, ):\n",
        "  def accuracy(self,):\n",
        "\n",
        "\n",
        "     "
      ],
      "execution_count": 0,
      "outputs": []
    },
    {
      "cell_type": "code",
      "metadata": {
        "id": "JzEJw1SPrXcZ",
        "colab_type": "code",
        "colab": {}
      },
      "source": [
        ""
      ],
      "execution_count": 0,
      "outputs": []
    },
    {
      "cell_type": "markdown",
      "metadata": {
        "id": "M1zLu0iSSAHm",
        "colab_type": "text"
      },
      "source": [
        "**1. Plot the loss curve**"
      ]
    },
    {
      "cell_type": "code",
      "metadata": {
        "id": "6mOGiY5WR-Sd",
        "colab_type": "code",
        "colab": {}
      },
      "source": [
        ""
      ],
      "execution_count": 0,
      "outputs": []
    },
    {
      "cell_type": "markdown",
      "metadata": {
        "id": "mSwhPEdTSFk8",
        "colab_type": "text"
      },
      "source": [
        "**2. Plot the accuracy curve**"
      ]
    },
    {
      "cell_type": "markdown",
      "metadata": {
        "id": "wKi4vKe0SLmP",
        "colab_type": "text"
      },
      "source": [
        "**3. Plot the accuracy value**"
      ]
    },
    {
      "cell_type": "markdown",
      "metadata": {
        "id": "dWTf1w9bSQ2z",
        "colab_type": "text"
      },
      "source": [
        "**4. Plot the classification example**"
      ]
    }
  ]
}