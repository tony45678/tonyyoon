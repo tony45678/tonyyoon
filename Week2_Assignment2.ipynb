{
  "nbformat": 4,
  "nbformat_minor": 0,
  "metadata": {
    "colab": {
      "name": "Week2-Assignment2.ipynb",
      "provenance": [],
      "toc_visible": true,
      "authorship_tag": "ABX9TyPmqyl9zOFtq02TeN7K0AvD",
      "include_colab_link": true
    },
    "kernelspec": {
      "name": "python3",
      "display_name": "Python 3"
    },
    "accelerator": "GPU"
  },
  "cells": [
    {
      "cell_type": "markdown",
      "metadata": {
        "id": "view-in-github",
        "colab_type": "text"
      },
      "source": [
        "<a href=\"https://colab.research.google.com/github/tony45678/tonyyoon/blob/master/Week2_Assignment2.ipynb\" target=\"_parent\"><img src=\"https://colab.research.google.com/assets/colab-badge.svg\" alt=\"Open In Colab\"/></a>"
      ]
    },
    {
      "cell_type": "markdown",
      "metadata": {
        "id": "TOw6wx2EYjPB",
        "colab_type": "text"
      },
      "source": [
        "## Import Library "
      ]
    },
    {
      "cell_type": "code",
      "metadata": {
        "id": "2x-AGfSXSThf",
        "colab_type": "code",
        "colab": {}
      },
      "source": [
        "import matplotlib.pyplot as plt \n",
        "import pandas as pd\n"
      ],
      "execution_count": 0,
      "outputs": []
    },
    {
      "cell_type": "markdown",
      "metadata": {
        "id": "SPmdDHjEZ50B",
        "colab_type": "text"
      },
      "source": [
        "\n",
        "##  Set of Points"
      ]
    },
    {
      "cell_type": "code",
      "metadata": {
        "id": "u2sBZ5PZWwbE",
        "colab_type": "code",
        "outputId": "5a5412e3-fe9e-464c-cee8-27135f2f671f",
        "colab": {
          "base_uri": "https://localhost:8080/",
          "height": 390
        }
      },
      "source": [
        "x_and_y = [(0,1),(1,2),(3,4),(2,7),(4,5),(6,7),(8,9),(10,11),(11,12),(13,14),(20,19)]\n",
        "data = pd.DataFrame(x_and_y,columns=['X','Y'])\n",
        "data"
      ],
      "execution_count": 27,
      "outputs": [
        {
          "output_type": "execute_result",
          "data": {
            "text/html": [
              "<div>\n",
              "<style scoped>\n",
              "    .dataframe tbody tr th:only-of-type {\n",
              "        vertical-align: middle;\n",
              "    }\n",
              "\n",
              "    .dataframe tbody tr th {\n",
              "        vertical-align: top;\n",
              "    }\n",
              "\n",
              "    .dataframe thead th {\n",
              "        text-align: right;\n",
              "    }\n",
              "</style>\n",
              "<table border=\"1\" class=\"dataframe\">\n",
              "  <thead>\n",
              "    <tr style=\"text-align: right;\">\n",
              "      <th></th>\n",
              "      <th>X</th>\n",
              "      <th>Y</th>\n",
              "    </tr>\n",
              "  </thead>\n",
              "  <tbody>\n",
              "    <tr>\n",
              "      <th>0</th>\n",
              "      <td>0</td>\n",
              "      <td>1</td>\n",
              "    </tr>\n",
              "    <tr>\n",
              "      <th>1</th>\n",
              "      <td>1</td>\n",
              "      <td>2</td>\n",
              "    </tr>\n",
              "    <tr>\n",
              "      <th>2</th>\n",
              "      <td>3</td>\n",
              "      <td>4</td>\n",
              "    </tr>\n",
              "    <tr>\n",
              "      <th>3</th>\n",
              "      <td>2</td>\n",
              "      <td>7</td>\n",
              "    </tr>\n",
              "    <tr>\n",
              "      <th>4</th>\n",
              "      <td>4</td>\n",
              "      <td>5</td>\n",
              "    </tr>\n",
              "    <tr>\n",
              "      <th>5</th>\n",
              "      <td>6</td>\n",
              "      <td>7</td>\n",
              "    </tr>\n",
              "    <tr>\n",
              "      <th>6</th>\n",
              "      <td>8</td>\n",
              "      <td>9</td>\n",
              "    </tr>\n",
              "    <tr>\n",
              "      <th>7</th>\n",
              "      <td>10</td>\n",
              "      <td>11</td>\n",
              "    </tr>\n",
              "    <tr>\n",
              "      <th>8</th>\n",
              "      <td>11</td>\n",
              "      <td>12</td>\n",
              "    </tr>\n",
              "    <tr>\n",
              "      <th>9</th>\n",
              "      <td>13</td>\n",
              "      <td>14</td>\n",
              "    </tr>\n",
              "    <tr>\n",
              "      <th>10</th>\n",
              "      <td>20</td>\n",
              "      <td>19</td>\n",
              "    </tr>\n",
              "  </tbody>\n",
              "</table>\n",
              "</div>"
            ],
            "text/plain": [
              "     X   Y\n",
              "0    0   1\n",
              "1    1   2\n",
              "2    3   4\n",
              "3    2   7\n",
              "4    4   5\n",
              "5    6   7\n",
              "6    8   9\n",
              "7   10  11\n",
              "8   11  12\n",
              "9   13  14\n",
              "10  20  19"
            ]
          },
          "metadata": {
            "tags": []
          },
          "execution_count": 27
        }
      ]
    },
    {
      "cell_type": "markdown",
      "metadata": {
        "id": "fbAjR4J1XjcD",
        "colab_type": "text"
      },
      "source": [
        "## Assignment 1: Input Data"
      ]
    },
    {
      "cell_type": "markdown",
      "metadata": {
        "id": "YYEry3gVfBWE",
        "colab_type": "text"
      },
      "source": [
        " \n",
        "\n",
        "*    Y = ax + b\n",
        "\n",
        "\n"
      ]
    },
    {
      "cell_type": "code",
      "metadata": {
        "id": "9Npq6OlFe8Hs",
        "colab_type": "code",
        "colab": {}
      },
      "source": [
        " a = 0.8 \n",
        " b = 2.86\n",
        " line = a*x + b"
      ],
      "execution_count": 0,
      "outputs": []
    },
    {
      "cell_type": "markdown",
      "metadata": {
        "id": "38yZaslBgAh_",
        "colab_type": "text"
      },
      "source": [
        "\n",
        "\n",
        "*   Graphing"
      ]
    },
    {
      "cell_type": "code",
      "metadata": {
        "id": "kQKdLb2jXJYW",
        "colab_type": "code",
        "outputId": "30441f0b-4796-4eb8-a791-f585155dae09",
        "colab": {
          "base_uri": "https://localhost:8080/",
          "height": 313
        }
      },
      "source": [
        "x= data['X']\n",
        "y= data['Y']\n",
        "plt.scatter(x,y, color ='black')\n",
        "plt.plot(x,line,'b', markersize= 15)\n",
        "plt.title('Assignment 2 - 1')\n",
        "plt.xlabel('X AXIS')\n",
        "plt.ylabel('Y AXIS')\n",
        "plt.legend(['line', 'coordinates'])"
      ],
      "execution_count": 61,
      "outputs": [
        {
          "output_type": "execute_result",
          "data": {
            "text/plain": [
              "<matplotlib.legend.Legend at 0x7f833ed97898>"
            ]
          },
          "metadata": {
            "tags": []
          },
          "execution_count": 61
        },
        {
          "output_type": "display_data",
          "data": {
            "image/png": "[encoded data removed]",
            "text/plain": [
              "<Figure size 432x288 with 1 Axes>"
            ]
          },
          "metadata": {
            "tags": []
          }
        }
      ]
    },
    {
      "cell_type": "markdown",
      "metadata": {
        "id": "JB56BZW-2ByP",
        "colab_type": "text"
      },
      "source": [
        "## Assignment 2 : Output Results"
      ]
    },
    {
      "cell_type": "code",
      "metadata": {
        "id": "SS0xj_4C5K2h",
        "colab_type": "code",
        "colab": {}
      },
      "source": [
        "import numpy as np"
      ],
      "execution_count": 0,
      "outputs": []
    },
    {
      "cell_type": "code",
      "metadata": {
        "id": "lV86gwU92A-z",
        "colab_type": "code",
        "colab": {}
      },
      "source": [
        "average_x = np.mean(x)    #getting the average of x which is 7.8\n",
        "average_y = np.mean(y)    #getting the average of y which is 9.1\n",
        "\n",
        "m = len(x)    #total numbers of values\n",
        "\n",
        "numerator = 0\n",
        "denominator = 0\n",
        "\n",
        "for i in range(m):\n",
        "  numerator +=(x[i] - average_x) *(y[i] - average_y)\n",
        "  denominator += (x[i]- average_x) ** 2\n",
        "r1 = numerator  / denominator\n",
        "r0 = average_y -(r1 * average_x)\n",
        "\n",
        "#print(r1,r0)        #the coefficeients are similar when (362.12 / 432.24)  \n"
      ],
      "execution_count": 0,
      "outputs": []
    },
    {
      "cell_type": "code",
      "metadata": {
        "id": "w65TaBl3603n",
        "colab_type": "code",
        "outputId": "45cc16a6-7724-4712-bcf4-bf0129c6e007",
        "colab": {
          "base_uri": "https://localhost:8080/",
          "height": 313
        }
      },
      "source": [
        "x= data['X']\n",
        "y= data['Y']\n",
        "regression_line = r0 + r1*x\n",
        "\n",
        "plt.scatter(x,y, color ='blue')\n",
        "plt.plot(x,line,color = 'black')\n",
        "plt.plot(regression_line, line, color='red')\n",
        "plt.title('Assignment 2 - 2')\n",
        "plt.xlabel('X AXIS')\n",
        "plt.ylabel('Y AXIS')\n",
        "plt.legend(['linear line','regression line','coordinates'])"
      ],
      "execution_count": 68,
      "outputs": [
        {
          "output_type": "execute_result",
          "data": {
            "text/plain": [
              "<matplotlib.legend.Legend at 0x7f833ebb2e10>"
            ]
          },
          "metadata": {
            "tags": []
          },
          "execution_count": 68
        },
        {
          "output_type": "display_data",
          "data": {
            "image/png": "[encoded data removed]",
            "text/plain": [
              "<Figure size 432x288 with 1 Axes>"
            ]
          },
          "metadata": {
            "tags": []
          }
        }
      ]
    },
    {
      "cell_type": "markdown",
      "metadata": {
        "id": "OYGGBJC6NtDE",
        "colab_type": "text"
      },
      "source": [
        "# Assignment 3 : Plotting the Energy Value"
      ]
    }
  ]
}